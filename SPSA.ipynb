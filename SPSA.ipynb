{
 "cells": [
  {
   "cell_type": "markdown",
   "id": "25b9c109-a5ec-4756-88fc-53054926fd48",
   "metadata": {
    "tags": []
   },
   "source": [
    "# Welcome to this notebook on Simultaneous Perturbation Stochastic Approximation (SPSA)."
   ]
  },
  {
   "cell_type": "markdown",
   "id": "98a56a35-5f0a-4e15-a608-263b36827d64",
   "metadata": {},
   "source": [
    "## What is SPSA?\n",
    "\n",
    "SPSA is an algorithm developed by Spall (see: https://www.jhuapl.edu/spsa/). It can be used if noisy and unbiased measurements of the gradient $g(\\boldsymbol{\\theta}$) are available. It can also be used if only (noisy) measurements of the loss function $f(\\boldsymbol{\\theta})$ are available.\n",
    "\n",
    "The advantage of SPSA compared to other algorithms is that only two loss measurements are required to generate an update. Therefore, SPSA is scalable.\n"
   ]
  },
  {
   "cell_type": "markdown",
   "id": "fbafdb7c-7584-4cfa-889c-df281d1b63af",
   "metadata": {
    "jp-MarkdownHeadingCollapsed": true,
    "tags": []
   },
   "source": [
    "## How does SPSA work?\n",
    "Let $\\eta_i \\in (0, \\infty)$ be a perturbation vector and $\\Delta_i$ be a random vector such that $\\{\\Delta_i\\}$ is an iid sequence with $\\Delta_i(k)$ and $1/\\Delta_i(k)$ bounded and symmetric around zero. The components $\\Delta_i(k)$ are mutually independent. In practice, often the following binary random variable is used for $\\Delta_i$:\n",
    "\n",
    "$$\n",
    "\\mathbb{P}(\\Delta_i(j) = -1) = \\frac{1}{2} = \\mathbb{P}(\\Delta_i(j) = 1),\n",
    "$$\n",
    "for all $i$ and $j$.\n",
    "\n",
    "\n",
    "The SPSA algorithm is then as follows:\n",
    "\n",
    "___\n",
    "**Start**: Choose starting value $\\theta_0$, learning rate $\\epsilon$ and take $i = 0$.\n",
    "___\n",
    "**Algorithm**:\n",
    "1) Calculate ($g_i^{SPSA}(\\theta_i))(j) = \\frac{f(\\theta_i+\\eta_i\\Delta_i)-f(\\theta_i-\\eta_i\\Delta_i)}{2\\eta_i\\Delta_i(j)}$. \n",
    "2) Update $\\theta_{i+1} = \\theta_{i} - \\epsilon (g_i^{SPSA}(\\theta_i))$.\n",
    "3) (a) stop if $i$ large or $|\\theta_{i+1}-\\theta_{i}|$ small enough.  \n",
    "   (b) else: update $i$ to $i+1$ and go back to (1).\n",
    "___\n",
    "\n",
    "In the implementation below, you can perform SPSA on an one-dimensional function.\n",
    "\n",
    "You can also experiment with what happens if stochastic noise is added to the objective function. This is interesting, as in (most) practical situations only noisy measurements of the objective function are available. You can also estimate the gradient multiple times and use the average gradient as the update.\n",
    "\n",
    "You can also experiment with the difference between a fixed learning rate $\\epsilon$ and a decreasing learning rate according to $\\epsilon = \\frac{1}{i+1}$."
   ]
  },
  {
   "cell_type": "markdown",
   "id": "43abe915-8424-4795-a9e6-a2920309b292",
   "metadata": {},
   "source": [
    "## Try SPSA yourself and see what happens"
   ]
  },
  {
   "cell_type": "code",
   "execution_count": 1,
   "id": "d8182a7d-f588-487c-84f7-dbdec1321d01",
   "metadata": {
    "tags": []
   },
   "outputs": [],
   "source": [
    "# import libraries\n",
    "import numpy as np\n",
    "import scipy.stats as ss\n",
    "import matplotlib.pyplot as plt"
   ]
  },
  {
   "cell_type": "code",
   "execution_count": 2,
   "id": "dbded54d-e6b1-4a81-a207-5ce9e128689e",
   "metadata": {
    "tags": []
   },
   "outputs": [],
   "source": [
    "# Fill in the objective function you would like to use:\n",
    "def objective_f(theta, STOCHASTIC, MU, SIGMA, rng_noise):\n",
    "    \n",
    "    function = np.power(theta, 2) #You can change this function\n",
    "    if STOCHASTIC:\n",
    "        function = function + add_noise(MU, SIGMA, rng_noise)\n",
    "    return function"
   ]
  },
  {
   "cell_type": "code",
   "execution_count": 3,
   "id": "604e00df-3318-439b-b19f-4c2ba381d592",
   "metadata": {
    "tags": []
   },
   "outputs": [],
   "source": [
    "# Adds normally distributed noise to the objective function. \n",
    "def add_noise(MU, SIGMA, rng_noise):\n",
    "    return rng_noise.normal(MU, SIGMA)"
   ]
  },
  {
   "cell_type": "code",
   "execution_count": 4,
   "id": "c1d4cccb-094d-4b49-b01c-e5654981ddd3",
   "metadata": {
    "tags": []
   },
   "outputs": [],
   "source": [
    "# Fill in the number of iterations you would like to run SPSA.\n",
    "NR_ITERATIONS = 100"
   ]
  },
  {
   "cell_type": "code",
   "execution_count": 5,
   "id": "a2010c83-428a-4a5d-bd7e-ba5103ee216d",
   "metadata": {
    "tags": []
   },
   "outputs": [],
   "source": [
    "# Do you want to use decreasing or fixed epsilon?\n",
    "EPSILON_TYPE = 'fixed' #'fixed' or 'decreasing'\n",
    "# Fill in the value for epsilon. The decreasing epsilon uses the form EPSILON_VALUE/(i+1).\n",
    "EPSILON_VALUE = 0.01"
   ]
  },
  {
   "cell_type": "code",
   "execution_count": 6,
   "id": "a6313d4f-e087-418c-8c35-64137e54e626",
   "metadata": {
    "tags": []
   },
   "outputs": [],
   "source": [
    "# Fill in the starting value for the optimisation:\n",
    "THETA_0 = 10"
   ]
  },
  {
   "cell_type": "code",
   "execution_count": 7,
   "id": "00a3339a-f00d-4c89-ac2d-8690fccf7478",
   "metadata": {
    "tags": []
   },
   "outputs": [],
   "source": [
    "# Do you want to do maximization or minimization?\n",
    "OPTIMIZATION_TYPE = 'minimization' #or 'maximization' "
   ]
  },
  {
   "cell_type": "code",
   "execution_count": 8,
   "id": "0887e597-237a-427d-8289-9bcaaa80febc",
   "metadata": {
    "tags": []
   },
   "outputs": [],
   "source": [
    "# Which seed do you want to use?\n",
    "SEED = 10"
   ]
  },
  {
   "cell_type": "code",
   "execution_count": 9,
   "id": "946dfd74-fee9-4f02-b086-7e087360aaba",
   "metadata": {
    "tags": []
   },
   "outputs": [],
   "source": [
    "# Do you want to add stochasticity?\n",
    "STOCHASTIC = False #False or True\n",
    "MU = 0 # mu parameter of the normal distribution for the noise.\n",
    "SIGMA = 1 # sigma parameter of the normal distribution for the noise.\n",
    "NOISE_SEED = 0 # Seed for the added noise. SEED and NOISE_SEED should NOT have the same value.\n",
    "\n",
    "# In case of stochasticity, do you want to estimate the gradient multiple times and use the average as update?\n",
    "BATCH = False #False or True\n",
    "NR_ESTIMATES = 10\n",
    "\n",
    "# In case of stochasticity, do you want to do a statistical output analysis?\n",
    "STATISTICAL_ANALYSIS = False #False or True\n",
    "NR_REPETITIONS = 1000 #Number of independent repetitions done for the statistical output analysis.\n",
    "NR_BINS = 100 #Number of bins for the statistical output analysis histogram"
   ]
  },
  {
   "cell_type": "code",
   "execution_count": 10,
   "id": "45d5a62c-b226-4ff0-8794-611de4cfe1c0",
   "metadata": {
    "tags": []
   },
   "outputs": [],
   "source": [
    "def estimate_gradient(theta, i, STOCHASTIC, MU, SIGMA, BATCH, NR_ESTIMATES, rng, rng_noise):\n",
    "    delta_i = rng.choice((-1, 1))\n",
    "    eta_i = 1/(i+1)\n",
    "    \n",
    "    if BATCH:\n",
    "        gradient_estimates = np.zeros(NR_ESTIMATES)\n",
    "        for n in range(NR_ESTIMATES):\n",
    "            perturbation_high = theta + eta_i*delta_i\n",
    "            perturbation_low = theta - eta_i*delta_i\n",
    "            obj_perturbation_high = objective_f(perturbation_high, STOCHASTIC, MU, SIGMA, rng_noise)\n",
    "            obj_perturbation_low = objective_f(perturbation_low, STOCHASTIC, MU, SIGMA, rng_noise)\n",
    "            numerator = obj_perturbation_high-obj_perturbation_low\n",
    "            denominator = 2*eta_i*delta_i\n",
    "            gradient_estimates[n] = numerator/denominator\n",
    "        gradient_estimate = np.mean(gradient_estimates)\n",
    "    else:\n",
    "        perturbation_high = theta + eta_i*delta_i\n",
    "        perturbation_low = theta - eta_i*delta_i\n",
    "        obj_perturbation_high = objective_f(perturbation_high, STOCHASTIC, MU, SIGMA, rng_noise)\n",
    "        obj_perturbation_low = objective_f(perturbation_low, STOCHASTIC, MU, SIGMA, rng_noise)\n",
    "        numerator = obj_perturbation_high-obj_perturbation_low\n",
    "        denominator = 2*eta_i*delta_i\n",
    "        gradient_estimate = numerator/denominator\n",
    "\n",
    "    return gradient_estimate"
   ]
  },
  {
   "cell_type": "code",
   "execution_count": 11,
   "id": "8546f910-759d-40ed-bc97-ed4ac6135709",
   "metadata": {
    "tags": []
   },
   "outputs": [],
   "source": [
    "# The SPSA algorithm\n",
    "def SPSA(SEED, NOISE_SEED, THETA_0, EPSILON_TYPE, EPSILON_VALUE, NR_ITERATIONS, STOCHASTIC, MU, SIGMA, BATCH, NR_ESTIMATES):\n",
    "    rng = np.random.default_rng(SEED)\n",
    "    rng_noise = np.random.default_rng(NOISE_SEED)\n",
    "    thetas = np.zeros(NR_ITERATIONS+1)\n",
    "    gradients = np.zeros(NR_ITERATIONS)\n",
    "    objective_values = np.zeros(NR_ITERATIONS+1)\n",
    "    thetas[0] = THETA_0\n",
    "    objective_values[0] = objective_f(thetas[0], STOCHASTIC, MU, SIGMA, rng_noise)\n",
    "\n",
    "    for i in range(NR_ITERATIONS):\n",
    "        g = estimate_gradient(thetas[i], i, STOCHASTIC, MU, SIGMA, BATCH, NR_ESTIMATES, rng, rng_noise)\n",
    "        gradients[i] = g\n",
    "        if EPSILON_TYPE == 'fixed':\n",
    "            if OPTIMIZATION_TYPE == 'minimization':\n",
    "                thetas[i+1] = thetas[i] - EPSILON_VALUE * g\n",
    "            if OPTIMIZATION_TYPE == 'maximization':\n",
    "                thetas[i+1] = thetas[i] + EPSILON_VALUE * g\n",
    "        if EPSILON_TYPE == 'decreasing':\n",
    "            if OPTIMIZATION_TYPE == 'minimization':\n",
    "                thetas[i+1] = thetas[i] - EPSILON_VALUE/(i+1) * g\n",
    "            if OPTIMIZATION_TYPE == 'maximization':\n",
    "                thetas[i+1] = thetas[i] + EPSILON_VALUE/(i+1) * g\n",
    "        objective_values[i+1] = objective_f(thetas[i+1], STOCHASTIC, MU, SIGMA, rng_noise)\n",
    "\n",
    "    return thetas, gradients, objective_values"
   ]
  },
  {
   "cell_type": "code",
   "execution_count": 12,
   "id": "5f768d17-4b29-411b-a6f3-6565d92c9356",
   "metadata": {
    "tags": []
   },
   "outputs": [],
   "source": [
    "# Plot the iterates and objective values during the optimisation\n",
    "def plot_iterate_objective_gradient(thetas, gradients, objective_values, STOCHASTIC, MU, SIGMA):    \n",
    "    fig, axs = plt.subplots(1,3, figsize=(20,5))\n",
    "\n",
    "    # Plot the iterate\n",
    "    axs[0].plot(thetas, color=\"darkblue\")\n",
    "    axs[0].set_xlabel(\"Iteration\")\n",
    "    axs[0].set_ylabel(r\"$\\theta_n$\")\n",
    "    axs[0].set_title(r\"$\\theta_n$\")\n",
    "        \n",
    "    # Plot the objective values\n",
    "    axs[1].plot(objective_values, color=\"darkblue\")\n",
    "    axs[1].set_xlabel(\"Iteration\")\n",
    "    axs[1].set_ylabel(r\"f($\\theta_n$)\")\n",
    "    axs[1].set_title(r\"f($\\theta_n$)\")\n",
    "    \n",
    "    # Plot the estimated gradients\n",
    "    axs[2].plot(gradients, color=\"darkblue\")\n",
    "    axs[2].set_xlabel(\"Iteration\")\n",
    "    axs[2].set_ylabel(r\"$g^{SPSA}$($\\theta_n$)\")\n",
    "    axs[2].set_title(r\"$g^{SPSA}$($\\theta_n$)\")"
   ]
  },
  {
   "cell_type": "code",
   "execution_count": 13,
   "id": "fa9bbb1c-5758-43e7-aca6-54f9b7bca8d3",
   "metadata": {
    "tags": []
   },
   "outputs": [
    {
     "data": {
      "image/png": "[encoded data removed]",
      "text/plain": [
       "<Figure size 2000x500 with 3 Axes>"
      ]
     },
     "metadata": {},
     "output_type": "display_data"
    }
   ],
   "source": [
    "# Run SPSA and plot the optimisation\n",
    "thetas, gradients, objective_values = SPSA(SEED, NOISE_SEED, THETA_0, EPSILON_TYPE, EPSILON_VALUE, NR_ITERATIONS, STOCHASTIC, MU, SIGMA, BATCH, NR_ESTIMATES)\n",
    "plot_iterate_objective_gradient(thetas, gradients, objective_values, STOCHASTIC, MU, SIGMA)"
   ]
  },
  {
   "cell_type": "code",
   "execution_count": 14,
   "id": "b6fa0e3e-7e80-48ae-984a-a36ae731ce13",
   "metadata": {},
   "outputs": [],
   "source": [
    "def true_value(mean_theta, std_theta, i, NR_BINS):\n",
    "    return ss.norm.pdf(((mean_theta-4*std_theta+i*2*4*std_theta/(NR_BINS-1))+2*4*std_theta/(2*(NR_BINS-1))), mean_theta, std_theta)"
   ]
  },
  {
   "cell_type": "code",
   "execution_count": 15,
   "id": "8fd09473-93b8-4d9b-8327-5b415a40f5c1",
   "metadata": {
    "tags": []
   },
   "outputs": [],
   "source": [
    "if STATISTICAL_ANALYSIS:\n",
    "    final_thetas = np.zeros(NR_REPETITIONS)\n",
    "    START_SEED = SEED\n",
    "    START_NOISE_SEED = NOISE_SEED\n",
    "    for i in range(NR_REPETITIONS):\n",
    "        SEED_i = START_SEED + i\n",
    "        NOISE_SEED_i = START_NOISE_SEED + i\n",
    "        thetas, gradients, objective_values = SPSA(SEED_i, NOISE_SEED_i, THETA_0, EPSILON_TYPE, EPSILON_VALUE, NR_ITERATIONS, STOCHASTIC, MU, SIGMA, BATCH, NR_ESTIMATES)\n",
    "        final_thetas[i]=thetas[-1]\n",
    "    \n",
    "    plt.figure(figsize=(8,5))\n",
    "    mean_theta = np.mean(final_thetas)\n",
    "    std_theta = np.std(final_thetas)\n",
    "    bins = np.linspace(mean_theta-4*std_theta, mean_theta+4*std_theta, NR_BINS)\n",
    "    n, bins, patches = plt.hist(final_thetas, bins, density=True)\n",
    "\n",
    "    for i in range(NR_BINS-1):\n",
    "        # Give bar red color if lower than PDF\n",
    "        if n[i] < true_value(mean_theta, std_theta, i, NR_BINS):\n",
    "            patches[i].set_fc('salmon')\n",
    "        # Give bar green color if higher than PDF\n",
    "        if n[i] > true_value(mean_theta, std_theta, i, NR_BINS):   \n",
    "            patches[i].set_fc('springgreen')\n",
    "        # Give bar blue color if approx. equal to PDF\n",
    "        if n[i] <= 0.05*n[i] + true_value(mean_theta, std_theta, i, NR_BINS) and n[i] >= -0.05*n[i] + true_value(mean_theta, std_theta, i, NR_BINS):\n",
    "            patches[i].set_fc('skyblue')    \n",
    "\n",
    "    # Plotting the PDF of the normal distribution\n",
    "    x = np.linspace(mean_theta-4*std_theta, mean_theta+4*std_theta, 1000)\n",
    "    # PDF: 1/(√(2π))*exp(-(x-μ)^2/2σ^2)\n",
    "    y = ss.norm.pdf(x, mean_theta, std_theta)\n",
    "    plt.plot(x, y, lw=3, color='black', label = 'PDF') \n",
    "    \n",
    "    plt.legend()\n",
    "    plt.title(\"Statistical output analysis\")\n",
    "    "
   ]
  }
 ],
 "metadata": {
  "kernelspec": {
   "display_name": "Python 3 (ipykernel)",
   "language": "python",
   "name": "python3"
  },
  "language_info": {
   "codemirror_mode": {
    "name": "ipython",
    "version": 3
   },
   "file_extension": ".py",
   "mimetype": "text/x-python",
   "name": "python",
   "nbconvert_exporter": "python",
   "pygments_lexer": "ipython3",
   "version": "3.11.3"
  }
 },
 "nbformat": 4,
 "nbformat_minor": 5
}
