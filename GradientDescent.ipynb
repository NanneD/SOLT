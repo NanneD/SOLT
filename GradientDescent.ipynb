{
 "cells": [
  {
   "cell_type": "markdown",
   "id": "292310b6-3bd5-43ac-8758-8422e9d62515",
   "metadata": {},
   "source": [
    "# Welcome to this notebook on Gradient Descent"
   ]
  },
  {
   "cell_type": "markdown",
   "id": "f8658554-ec89-4453-8a38-f5af9f456b57",
   "metadata": {
    "tags": []
   },
   "source": [
    "## What is gradient descent?\n",
    "Gradient descent is an iterative optimisation algorithm that can be used to find a minimum or maximum of a function $f(\\boldsymbol{\\theta})$. At each iteration, it takes a step in the direction of the gradient $\\nabla f(\\boldsymbol{\\theta})$."
   ]
  },
  {
   "cell_type": "markdown",
   "id": "9fafdaee-d8ca-488d-bb94-1311d6dc7048",
   "metadata": {
    "tags": []
   },
   "source": [
    "## How does gradient descent work?\n",
    "The gradient descent algorithm is as follows:\n",
    "\n",
    "___\n",
    "**Start**: Choose starting value $\\theta_0$, learning rate $\\epsilon$ and take $i = 0$.\n",
    "___\n",
    "**Algorithm**:\n",
    "1) Calculate $\\nabla f(\\theta_i)$.\n",
    "2) Update $\\theta_{i+1} = \\theta_{i} - \\epsilon \\nabla f(\\theta_i)$.\n",
    "3) (a) stop if $i$ large or $|\\theta_{i+1}-\\theta_{i}|$ small enough.  \n",
    "   (b) else: update $i$ to $i+1$ and go back to (1).\n",
    "___\n",
    "\n",
    "In the implementation below, you can perform an one-dimensional gradient descent and/or ascent, in which case $\\nabla f(\\theta_i) = f'(\\theta_i)$.\n",
    "\n",
    "You can also experiment with what happens if stochastic noise is added to the gradient. This is interesting, as in (most) practical situations the true gradient is unkown, and you may only be able to use noisy measurements of the gradient.\n",
    "\n",
    "You can also experiment with the difference between a fixed learning rate $\\epsilon$ and a decreasing learning rate according to $\\epsilon = \\frac{1}{i+1}$.\n"
   ]
  },
  {
   "cell_type": "markdown",
   "id": "043d8595-13d2-49ed-8910-ddc87df002d9",
   "metadata": {
    "tags": []
   },
   "source": [
    "## Try gradient descent yourself and see what happens"
   ]
  },
  {
   "cell_type": "code",
   "execution_count": 28,
   "id": "34503ae8-660d-44fb-a889-078787f9bbae",
   "metadata": {
    "tags": []
   },
   "outputs": [],
   "source": [
    "# import libraries\n",
    "import numpy as np\n",
    "import matplotlib.pyplot as plt"
   ]
  },
  {
   "cell_type": "code",
   "execution_count": 29,
   "id": "63bfcd10-c44b-4278-b476-c17ed5738f46",
   "metadata": {
    "tags": []
   },
   "outputs": [],
   "source": [
    "# Fill in the objective function you would like to use:\n",
    "def objective_f(theta):\n",
    "    return np.power(theta, 2)"
   ]
  },
  {
   "cell_type": "code",
   "execution_count": 30,
   "id": "608e6734-aafa-4cb6-9d56-d97164797a88",
   "metadata": {
    "tags": []
   },
   "outputs": [],
   "source": [
    "# Fill in the gradient of the objective function:\n",
    "def gradient_f(theta, STOCHASTIC, MU, SIGMA):\n",
    "    \n",
    "    function = 2*theta\n",
    "    \n",
    "    if STOCHASTIC:\n",
    "        function = function + add_noise(MU, SIGMA)\n",
    "        \n",
    "    return function"
   ]
  },
  {
   "cell_type": "code",
   "execution_count": 31,
   "id": "fdf26a33-f9b8-49e1-85f6-fa1c193f2552",
   "metadata": {
    "tags": []
   },
   "outputs": [],
   "source": [
    "# Adds normally distributed noise to the gradient. \n",
    "def add_noise(MU, SIGMA):\n",
    "    return np.random.normal(MU, SIGMA, size=1)"
   ]
  },
  {
   "cell_type": "code",
   "execution_count": 40,
   "id": "e6c41904-5385-47df-bc95-8b7a177daec5",
   "metadata": {
    "tags": []
   },
   "outputs": [],
   "source": [
    "# Fill in the number of iterations you would like to run gradient descent.\n",
    "NR_ITERATIONS = 100"
   ]
  },
  {
   "cell_type": "code",
   "execution_count": 41,
   "id": "0ce08eee-68bc-44e6-9c31-d11099d91cbf",
   "metadata": {
    "tags": []
   },
   "outputs": [],
   "source": [
    "# Do you want to use decreasing or fixed epsilon?\n",
    "EPSILON_TYPE = 'fixed' #'fixed' or 'decreasing'\n",
    "# In case of fixed epsilon, fill in the value for epsilon.\n",
    "EPSILON_VALUE = 0.01"
   ]
  },
  {
   "cell_type": "code",
   "execution_count": 42,
   "id": "f63d053e-b4f7-462c-af2d-c095d4d78625",
   "metadata": {
    "tags": []
   },
   "outputs": [],
   "source": [
    "# Fill in the starting value for the optimisation:\n",
    "THETA_0 = 10"
   ]
  },
  {
   "cell_type": "code",
   "execution_count": 43,
   "id": "fbaa6f9e-02ab-4be0-bd8d-bd1312651af4",
   "metadata": {
    "tags": []
   },
   "outputs": [],
   "source": [
    "# Do you want to do maximization or minimization?\n",
    "OPTIMIZATION_TYPE = 'minimization' #or 'maximization' b##"
   ]
  },
  {
   "cell_type": "code",
   "execution_count": 44,
   "id": "99d862e9-30aa-43c4-a092-25f10bb30d1f",
   "metadata": {
    "tags": []
   },
   "outputs": [],
   "source": [
    "# Do you want to add stochasticity?\n",
    "STOCHASTIC = False #False or True\n",
    "MU = 0 # mu parameter of the normal distribution for the noise.\n",
    "SIGMA = 1 # sigma parameter of the normal distribution for the noise."
   ]
  },
  {
   "cell_type": "code",
   "execution_count": 45,
   "id": "3c5eb818-357e-4ff4-a56a-d7c123c14b6c",
   "metadata": {
    "tags": []
   },
   "outputs": [],
   "source": [
    "# The gradient descent algorithm\n",
    "def gradient_descent(THETA_0, EPSILON_TYPE, EPSILON_VALUE, NR_ITERATIONS, STOCHATIC, MU, SIGMA):\n",
    "    thetas = np.zeros(NR_ITERATIONS+1)\n",
    "    thetas[0] = THETA_0\n",
    "    \n",
    "    for i in range(NR_ITERATIONS):\n",
    "        if EPSILON_TYPE == 'fixed':\n",
    "            if OPTIMIZATION_TYPE == 'minimization':\n",
    "                thetas[i+1] = thetas[i] - EPSILON_VALUE * gradient_f(thetas[i], STOCHASTIC, MU, SIGMA)\n",
    "            if OPTIMIZATION_TYPE == 'maximization':\n",
    "                thetas[i+1] = thetas[i] + EPSILON_VALUE * gradient_f(thetas[i], STOCHASTIC, MU, SIGMA)\n",
    "        if EPSILON_TYPE == 'decreasing':\n",
    "            if OPTIMIZATION_TYPE == 'minimization':\n",
    "                thetas[i+1] = thetas[i] - 1/(i+1) * gradient_f(thetas[i], MU, STOCHASTIC, SIGMA)\n",
    "            if OPTIMIZATION_TYPE == 'maximization':\n",
    "                thetas[i+1] = thetas[i] + 1/(i+1) * gradient_f(thetas[i], MU, STOCHASTIC, SIGMA)\n",
    "        \n",
    "    return thetas    "
   ]
  },
  {
   "cell_type": "code",
   "execution_count": 46,
   "id": "ead5a4ba-046d-40fe-9c5e-1947af97c14c",
   "metadata": {
    "tags": []
   },
   "outputs": [],
   "source": [
    "# Plot the iterates and objective values during the optimisation\n",
    "def plot_iterate_and_objective(thetas):\n",
    "    #Calculate the objective value at each iterate\n",
    "    objective_values = objective_f(thetas)\n",
    "    \n",
    "    fig, axs = plt.subplots(1,2, figsize=(10,5))\n",
    "\n",
    "    # Plot the iterate\n",
    "    axs[0].plot(thetas, color=\"darkblue\")\n",
    "    axs[0].set_xlabel(\"Iteration\")\n",
    "    axs[0].set_ylabel(r\"$\\theta_n$\")\n",
    "    axs[0].set_title(r\"$\\theta_n$\")\n",
    "        \n",
    "    # Plot the objective values\n",
    "    axs[1].plot(objective_values, color=\"darkblue\")\n",
    "    axs[1].set_xlabel(\"Iteration\")\n",
    "    axs[1].set_ylabel(r\"f($\\theta_n$)\")\n",
    "    axs[1].set_title(r\"f($\\theta_n$)\")"
   ]
  },
  {
   "cell_type": "code",
   "execution_count": 47,
   "id": "c3bc1ded-9220-4fc3-9b72-160853ee68c9",
   "metadata": {
    "tags": []
   },
   "outputs": [
    {
     "data": {
      "image/png": "[encoded data removed]",
      "text/plain": [
       "<Figure size 1000x500 with 2 Axes>"
      ]
     },
     "metadata": {},
     "output_type": "display_data"
    }
   ],
   "source": [
    "# Run gradient descent and plot the optimisation.\n",
    "thetas = gradient_descent(THETA_0, EPSILON_TYPE, EPSILON_VALUE, NR_ITERATIONS, STOCHASTIC, MU, SIGMA)\n",
    "plot_iterate_and_objective(thetas)"
   ]
  },
  {
   "cell_type": "code",
   "execution_count": null,
   "id": "067f9a17-2022-4185-b5dc-7ba8a7a69b62",
   "metadata": {},
   "outputs": [],
   "source": []
  }
 ],
 "metadata": {
  "kernelspec": {
   "display_name": "Python 3 (ipykernel)",
   "language": "python",
   "name": "python3"
  },
  "language_info": {
   "codemirror_mode": {
    "name": "ipython",
    "version": 3
   },
   "file_extension": ".py",
   "mimetype": "text/x-python",
   "name": "python",
   "nbconvert_exporter": "python",
   "pygments_lexer": "ipython3",
   "version": "3.11.3"
  }
 },
 "nbformat": 4,
 "nbformat_minor": 5
}
